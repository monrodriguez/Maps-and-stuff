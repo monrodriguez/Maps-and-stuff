{
 "cells": [
  {
   "cell_type": "code",
   "execution_count": null,
   "metadata": {},
   "outputs": [],
   "source": [
    "#conda deactivate\n",
    "\n",
    "#following this https://youtu.be/xqB4ZItm6k4\n",
    "#work from the anaconda prompt\n",
    "#\n",
    "# conda activate base\n",
    "#conda install -c conda-forge gdal\n",
    "#conda (de)activate\n",
    "#conda create --name geoenv python=3.9.12\n",
    "#conda activate geoenv\n",
    "#conda install -c conda-forge gdal\n",
    "#conda install -c conda-forge fiona\n",
    "#conda install geopandas\n",
    "\n",
    "#to install cartopy follow do it on the environment\n",
    "#https://anaconda.org/conda-forge/cartopy\n",
    "\n",
    "#pip install pygmt\n",
    "#pip install gpxpy\n",
    "#pip install folium"
   ]
  },
  {
   "cell_type": "code",
   "execution_count": null,
   "metadata": {},
   "outputs": [],
   "source": [
    "#pip install pygmt\n",
    "#pip install gpxpy\n",
    "#pip install folium"
   ]
  },
  {
   "cell_type": "code",
   "execution_count": 5,
   "metadata": {},
   "outputs": [
    {
     "name": "stdout",
     "output_type": "stream",
     "text": [
      "Collecting package metadata (current_repodata.json): ...working... done\n",
      "Solving environment: ...working... done\n",
      "\n",
      "## Package Plan ##\n",
      "\n",
      "  environment location: c:\\Users\\acesjrr\\Anaconda3\\envs\\geoenv\n",
      "\n",
      "  added / updated specs:\n",
      "    - cartopy\n",
      "\n",
      "\n",
      "The following packages will be downloaded:\n",
      "\n",
      "    package                    |            build\n",
      "    ---------------------------|-----------------\n",
      "    cartopy-0.18.0             |   py39h80a4efb_1         1.6 MB\n",
      "    pyshp-2.3.1                |     pyhd8ed1ab_0         941 KB  conda-forge\n",
      "    ------------------------------------------------------------\n",
      "                                           Total:         2.6 MB\n",
      "\n",
      "The following NEW packages will be INSTALLED:\n",
      "\n",
      "  cartopy            pkgs/main/win-64::cartopy-0.18.0-py39h80a4efb_1 None\n",
      "  pyshp              conda-forge/noarch::pyshp-2.3.1-pyhd8ed1ab_0 None\n",
      "\n",
      "\n",
      "\n",
      "Downloading and Extracting Packages\n",
      "\n",
      "pyshp-2.3.1          | 941 KB    |            |   0% \n",
      "pyshp-2.3.1          | 941 KB    | 1          |   2% \n",
      "pyshp-2.3.1          | 941 KB    | ###5       |  36% \n",
      "pyshp-2.3.1          | 941 KB    | ########## | 100% \n",
      "pyshp-2.3.1          | 941 KB    | ########## | 100% \n",
      "\n",
      "cartopy-0.18.0       | 1.6 MB    |            |   0% \n",
      "cartopy-0.18.0       | 1.6 MB    |            |   1% \n",
      "cartopy-0.18.0       | 1.6 MB    | #4         |  14% \n",
      "cartopy-0.18.0       | 1.6 MB    | ####       |  41% \n",
      "cartopy-0.18.0       | 1.6 MB    | #########3 |  94% \n",
      "cartopy-0.18.0       | 1.6 MB    | ########## | 100% \n",
      "Preparing transaction: ...working... done\n",
      "Verifying transaction: ...working... done\n",
      "Executing transaction: ...working... done\n",
      "Retrieving notices: ...working... done\n",
      "\n",
      "Note: you may need to restart the kernel to use updated packages.\n"
     ]
    }
   ],
   "source": [
    "conda install -c conda-forge cartopy"
   ]
  }
 ],
 "metadata": {
  "kernelspec": {
   "display_name": "Python 3.9.12 ('geoenv')",
   "language": "python",
   "name": "python3"
  },
  "language_info": {
   "codemirror_mode": {
    "name": "ipython",
    "version": 3
   },
   "file_extension": ".py",
   "mimetype": "text/x-python",
   "name": "python",
   "nbconvert_exporter": "python",
   "pygments_lexer": "ipython3",
   "version": "3.9.12"
  },
  "orig_nbformat": 4,
  "vscode": {
   "interpreter": {
    "hash": "f2cd51a3aa074986326405fa5f0ce7d59157376bfd13ae078cae81d6826552d8"
   }
  }
 },
 "nbformat": 4,
 "nbformat_minor": 2
}
